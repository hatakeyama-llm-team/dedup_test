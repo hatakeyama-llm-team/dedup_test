{
 "cells": [
  {
   "cell_type": "code",
   "execution_count": 1,
   "metadata": {},
   "outputs": [],
   "source": [
    "#!pip install bertopic\n",
    "\n",
    "# bertopicのmodelを作るscript"
   ]
  },
  {
   "cell_type": "code",
   "execution_count": 2,
   "metadata": {},
   "outputs": [
    {
     "name": "stderr",
     "output_type": "stream",
     "text": [
      "/home/user/miniconda3/envs/ft/lib/python3.11/site-packages/tqdm/auto.py:21: TqdmWarning: IProgress not found. Please update jupyter and ipywidgets. See https://ipywidgets.readthedocs.io/en/stable/user_install.html\n",
      "  from .autonotebook import tqdm as notebook_tqdm\n"
     ]
    }
   ],
   "source": [
    "from bertopic import BERTopic"
   ]
  },
  {
   "cell_type": "code",
   "execution_count": 3,
   "metadata": {},
   "outputs": [],
   "source": [
    "from datasets import load_dataset\n",
    "streaming=True\n",
    "dataset_list =[\n",
    "    load_dataset('mc4', 'ja', split='train',streaming=streaming),\n",
    "    load_dataset('oscar', 'unshuffled_deduplicated_ja', split='train',streaming=streaming),\n",
    "    load_dataset('cc100', lang='ja', split='train',streaming=streaming),\n",
    "    load_dataset(\"augmxnt/shisa-pretrain-en-ja-v1\",split=\"train\",streaming=streaming),\n",
    "    load_dataset(\"hpprc/wikipedia-20240101\", split=\"train\",streaming=streaming),\n",
    "]"
   ]
  },
  {
   "cell_type": "code",
   "execution_count": 4,
   "metadata": {},
   "outputs": [
    {
     "name": "stderr",
     "output_type": "stream",
     "text": [
      "5000it [00:19, 262.23it/s]\n",
      "5000it [00:23, 215.08it/s]\n",
      "5000it [00:07, 653.01it/s] \n",
      "5000it [00:17, 292.51it/s]\n",
      "5000it [00:43, 114.60it/s]\n"
     ]
    }
   ],
   "source": [
    "from tqdm import tqdm\n",
    "docs=[]\n",
    "#prepare data for training model\n",
    "for dataset in dataset_list:\n",
    "    cnt=0\n",
    "    for record in tqdm(dataset):\n",
    "        text=record[\"text\"]\n",
    "        docs.append(text)\n",
    "        cnt+=1\n",
    "\n",
    "        if cnt>5000:\n",
    "            break\n"
   ]
  },
  {
   "cell_type": "code",
   "execution_count": 5,
   "metadata": {},
   "outputs": [
    {
     "name": "stderr",
     "output_type": "stream",
     "text": [
      "2024-03-12 07:02:57,661 - BERTopic - Embedding - Transforming documents to embeddings.\n",
      "Batches: 100%|██████████| 782/782 [00:48<00:00, 16.19it/s]\n",
      "2024-03-12 07:03:53,040 - BERTopic - Embedding - Completed ✓\n",
      "2024-03-12 07:03:53,041 - BERTopic - Dimensionality - Fitting the dimensionality reduction algorithm\n",
      "2024-03-12 07:04:13,973 - BERTopic - Dimensionality - Completed ✓\n",
      "2024-03-12 07:04:13,974 - BERTopic - Cluster - Start clustering the reduced embeddings\n",
      "huggingface/tokenizers: The current process just got forked, after parallelism has already been used. Disabling parallelism to avoid deadlocks...\n",
      "To disable this warning, you can either:\n",
      "\t- Avoid using `tokenizers` before the fork if possible\n",
      "\t- Explicitly set the environment variable TOKENIZERS_PARALLELISM=(true | false)\n",
      "huggingface/tokenizers: The current process just got forked, after parallelism has already been used. Disabling parallelism to avoid deadlocks...\n",
      "To disable this warning, you can either:\n",
      "\t- Avoid using `tokenizers` before the fork if possible\n",
      "\t- Explicitly set the environment variable TOKENIZERS_PARALLELISM=(true | false)\n",
      "huggingface/tokenizers: The current process just got forked, after parallelism has already been used. Disabling parallelism to avoid deadlocks...\n",
      "To disable this warning, you can either:\n",
      "\t- Avoid using `tokenizers` before the fork if possible\n",
      "\t- Explicitly set the environment variable TOKENIZERS_PARALLELISM=(true | false)\n",
      "huggingface/tokenizers: The current process just got forked, after parallelism has already been used. Disabling parallelism to avoid deadlocks...\n",
      "To disable this warning, you can either:\n",
      "\t- Avoid using `tokenizers` before the fork if possible\n",
      "\t- Explicitly set the environment variable TOKENIZERS_PARALLELISM=(true | false)\n",
      "huggingface/tokenizers: The current process just got forked, after parallelism has already been used. Disabling parallelism to avoid deadlocks...\n",
      "To disable this warning, you can either:\n",
      "\t- Avoid using `tokenizers` before the fork if possible\n",
      "\t- Explicitly set the environment variable TOKENIZERS_PARALLELISM=(true | false)\n",
      "2024-03-12 07:05:12,843 - BERTopic - Cluster - Completed ✓\n",
      "2024-03-12 07:05:12,843 - BERTopic - Representation - Extracting topics from clusters using representation models.\n",
      "2024-03-12 07:05:43,634 - BERTopic - Representation - Completed ✓\n",
      "2024-03-12 07:05:43,673 - BERTopic - Topic reduction - Reducing number of topics\n",
      "2024-03-12 07:06:15,123 - BERTopic - Topic reduction - Reduced number of topics from 278 to 216\n"
     ]
    }
   ],
   "source": [
    "\n",
    "model_path=\"data/topic_model.bin\"\n",
    "topic_model = BERTopic(language=\"japanese\", calculate_probabilities=True, verbose=True, nr_topics=\"20\")\n",
    "topics, probs = topic_model.fit_transform(docs)\n",
    "\n",
    "\n",
    "#topic_model=BERTopic.load(model_path)"
   ]
  },
  {
   "cell_type": "code",
   "execution_count": 6,
   "metadata": {},
   "outputs": [
    {
     "name": "stderr",
     "output_type": "stream",
     "text": [
      "2024-03-12 07:06:22,275 - BERTopic - WARNING: When you use `pickle` to save/load a BERTopic model,please make sure that the environments in which you saveand load the model are **exactly** the same. The version of BERTopic,its dependencies, and python need to remain the same.\n",
      "/home/user/miniconda3/envs/ft/lib/python3.11/site-packages/scipy/sparse/_index.py:143: SparseEfficiencyWarning: Changing the sparsity structure of a csr_matrix is expensive. lil_matrix is more efficient.\n",
      "  self._set_arrayXarray(i, j, x)\n"
     ]
    }
   ],
   "source": [
    "topic_model.save(model_path)"
   ]
  },
  {
   "cell_type": "code",
   "execution_count": 8,
   "metadata": {},
   "outputs": [
    {
     "data": {
      "text/html": [
       "<div>\n",
       "<style scoped>\n",
       "    .dataframe tbody tr th:only-of-type {\n",
       "        vertical-align: middle;\n",
       "    }\n",
       "\n",
       "    .dataframe tbody tr th {\n",
       "        vertical-align: top;\n",
       "    }\n",
       "\n",
       "    .dataframe thead th {\n",
       "        text-align: right;\n",
       "    }\n",
       "</style>\n",
       "<table border=\"1\" class=\"dataframe\">\n",
       "  <thead>\n",
       "    <tr style=\"text-align: right;\">\n",
       "      <th></th>\n",
       "      <th>Topic</th>\n",
       "      <th>Count</th>\n",
       "      <th>Name</th>\n",
       "      <th>Representation</th>\n",
       "      <th>Representative_Docs</th>\n",
       "    </tr>\n",
       "  </thead>\n",
       "  <tbody>\n",
       "    <tr>\n",
       "      <th>0</th>\n",
       "      <td>-1</td>\n",
       "      <td>10760</td>\n",
       "      <td>-1_the_送料無料_of_and</td>\n",
       "      <td>[the, 送料無料, of, and, to, in, 10, レディース, 中古, 12]</td>\n",
       "      <td>[ロレックス スーパーコピー 比較 z97 - ロレックス gmtマスター スーパーコピー ...</td>\n",
       "    </tr>\n",
       "    <tr>\n",
       "      <th>1</th>\n",
       "      <td>0</td>\n",
       "      <td>921</td>\n",
       "      <td>0_2017_11_09_投稿日</td>\n",
       "      <td>[2017, 11, 09, 投稿日, 02, お腹いっぱい, としあき, 16, 無念, id]</td>\n",
       "      <td>[かんぱにスレ紐引っ張りたいそろそろまたレシピボイスストーン3倍や - ふたろぐばこ−二次元...</td>\n",
       "    </tr>\n",
       "    <tr>\n",
       "      <th>2</th>\n",
       "      <td>1</td>\n",
       "      <td>816</td>\n",
       "      <td>1_原作_isbn_講談社_978</td>\n",
       "      <td>[原作, isbn, 講談社, 978, 小学館, 集英社, 日本の漫画家, 作画, 全1巻...</td>\n",
       "      <td>[はしもと みつお（本名：橋本 光男、1955年11月5日 - ）は、日本の漫画家。埼玉県狭...</td>\n",
       "    </tr>\n",
       "    <tr>\n",
       "      <th>3</th>\n",
       "      <td>2</td>\n",
       "      <td>398</td>\n",
       "      <td>2_である_に対して_例えば_ここで</td>\n",
       "      <td>[である, に対して, 例えば, ここで, 関連項目, となる, また, とは, 参考文献,...</td>\n",
       "      <td>[数学におけるとは、2つの実数  と虚数単位  を用いて\\n\\nと表すことのできる数のことで...</td>\n",
       "    </tr>\n",
       "    <tr>\n",
       "      <th>4</th>\n",
       "      <td>3</td>\n",
       "      <td>386</td>\n",
       "      <td>3_5cm_ワンピース_格安通販_着丈</td>\n",
       "      <td>[5cm, ワンピース, 格安通販, 着丈, 肩幅, 素材, レディース, バスト幅, ka...</td>\n",
       "      <td>[最高の Nine West ナインウエスト レディース 女性用 シューズ 靴 ブーツ アン...</td>\n",
       "    </tr>\n",
       "    <tr>\n",
       "      <th>...</th>\n",
       "      <td>...</td>\n",
       "      <td>...</td>\n",
       "      <td>...</td>\n",
       "      <td>...</td>\n",
       "      <td>...</td>\n",
       "    </tr>\n",
       "    <tr>\n",
       "      <th>211</th>\n",
       "      <td>210</td>\n",
       "      <td>10</td>\n",
       "      <td>210_reviewimage_js_count_false</td>\n",
       "      <td>[reviewimage, js, count, false, content_id, co...</td>\n",
       "      <td>[チェレステ （celeste） - 茅ヶ崎/イタリアン [食べログ]\\nチェレステ（cel...</td>\n",
       "    </tr>\n",
       "    <tr>\n",
       "      <th>212</th>\n",
       "      <td>211</td>\n",
       "      <td>10</td>\n",
       "      <td>211_九州大学_工学部_81位_理学部</td>\n",
       "      <td>[九州大学, 工学部, 81位, 理学部, 北海道大学, 東北大学, 115位, 法学部, ...</td>\n",
       "      <td>[統計的検定と例数設計の基礎 - smatoku.info\\n２変量解析における検定と例数設...</td>\n",
       "    </tr>\n",
       "    <tr>\n",
       "      <th>213</th>\n",
       "      <td>212</td>\n",
       "      <td>10</td>\n",
       "      <td>212_アバクロ_スーリー_オークリー_ルーフボックス</td>\n",
       "      <td>[アバクロ, スーリー, オークリー, ルーフボックス, キャリア, 子供服, 最安値, サ...</td>\n",
       "      <td>[タクティカルブーツ、オークリー スノーボードサングラス、オークリー　度付き偏光　値段\\nオ...</td>\n",
       "    </tr>\n",
       "    <tr>\n",
       "      <th>214</th>\n",
       "      <td>213</td>\n",
       "      <td>10</td>\n",
       "      <td>213_dejikaji_exblog_http_主要城主</td>\n",
       "      <td>[dejikaji, exblog, http, 主要城主, entry, 文化財指定, 読...</td>\n",
       "      <td>[奈良・大和路 旅行ブログ・テーマ - にほんブログ村\\nまっくす管理画面\\nあなたのブログ...</td>\n",
       "    </tr>\n",
       "    <tr>\n",
       "      <th>215</th>\n",
       "      <td>214</td>\n",
       "      <td>10</td>\n",
       "      <td>214_盗聴器_発見機器_盗撮器_ご紹介商品</td>\n",
       "      <td>[盗聴器, 発見機器, 盗撮器, ご紹介商品, 検知範囲, バックチェイサー, ｗｃｈ, 1...</td>\n",
       "      <td>[ちょっとした怪我をしてしまい、しばらくは自宅療養です。 正直なところ家では会話もないし、自...</td>\n",
       "    </tr>\n",
       "  </tbody>\n",
       "</table>\n",
       "<p>216 rows × 5 columns</p>\n",
       "</div>"
      ],
      "text/plain": [
       "     Topic  Count                            Name  \\\n",
       "0       -1  10760              -1_the_送料無料_of_and   \n",
       "1        0    921                0_2017_11_09_投稿日   \n",
       "2        1    816               1_原作_isbn_講談社_978   \n",
       "3        2    398              2_である_に対して_例えば_ここで   \n",
       "4        3    386             3_5cm_ワンピース_格安通販_着丈   \n",
       "..     ...    ...                             ...   \n",
       "211    210     10  210_reviewimage_js_count_false   \n",
       "212    211     10            211_九州大学_工学部_81位_理学部   \n",
       "213    212     10     212_アバクロ_スーリー_オークリー_ルーフボックス   \n",
       "214    213     10   213_dejikaji_exblog_http_主要城主   \n",
       "215    214     10          214_盗聴器_発見機器_盗撮器_ご紹介商品   \n",
       "\n",
       "                                        Representation  \\\n",
       "0      [the, 送料無料, of, and, to, in, 10, レディース, 中古, 12]   \n",
       "1    [2017, 11, 09, 投稿日, 02, お腹いっぱい, としあき, 16, 無念, id]   \n",
       "2    [原作, isbn, 講談社, 978, 小学館, 集英社, 日本の漫画家, 作画, 全1巻...   \n",
       "3    [である, に対して, 例えば, ここで, 関連項目, となる, また, とは, 参考文献,...   \n",
       "4    [5cm, ワンピース, 格安通販, 着丈, 肩幅, 素材, レディース, バスト幅, ka...   \n",
       "..                                                 ...   \n",
       "211  [reviewimage, js, count, false, content_id, co...   \n",
       "212  [九州大学, 工学部, 81位, 理学部, 北海道大学, 東北大学, 115位, 法学部, ...   \n",
       "213  [アバクロ, スーリー, オークリー, ルーフボックス, キャリア, 子供服, 最安値, サ...   \n",
       "214  [dejikaji, exblog, http, 主要城主, entry, 文化財指定, 読...   \n",
       "215  [盗聴器, 発見機器, 盗撮器, ご紹介商品, 検知範囲, バックチェイサー, ｗｃｈ, 1...   \n",
       "\n",
       "                                   Representative_Docs  \n",
       "0    [ロレックス スーパーコピー 比較 z97 - ロレックス gmtマスター スーパーコピー ...  \n",
       "1    [かんぱにスレ紐引っ張りたいそろそろまたレシピボイスストーン3倍や - ふたろぐばこ−二次元...  \n",
       "2    [はしもと みつお（本名：橋本 光男、1955年11月5日 - ）は、日本の漫画家。埼玉県狭...  \n",
       "3    [数学におけるとは、2つの実数  と虚数単位  を用いて\\n\\nと表すことのできる数のことで...  \n",
       "4    [最高の Nine West ナインウエスト レディース 女性用 シューズ 靴 ブーツ アン...  \n",
       "..                                                 ...  \n",
       "211  [チェレステ （celeste） - 茅ヶ崎/イタリアン [食べログ]\\nチェレステ（cel...  \n",
       "212  [統計的検定と例数設計の基礎 - smatoku.info\\n２変量解析における検定と例数設...  \n",
       "213  [タクティカルブーツ、オークリー スノーボードサングラス、オークリー　度付き偏光　値段\\nオ...  \n",
       "214  [奈良・大和路 旅行ブログ・テーマ - にほんブログ村\\nまっくす管理画面\\nあなたのブログ...  \n",
       "215  [ちょっとした怪我をしてしまい、しばらくは自宅療養です。 正直なところ家では会話もないし、自...  \n",
       "\n",
       "[216 rows x 5 columns]"
      ]
     },
     "execution_count": 8,
     "metadata": {},
     "output_type": "execute_result"
    }
   ],
   "source": [
    "topic_model.get_topic_info()"
   ]
  },
  {
   "cell_type": "code",
   "execution_count": null,
   "metadata": {},
   "outputs": [],
   "source": []
  }
 ],
 "metadata": {
  "kernelspec": {
   "display_name": "ft",
   "language": "python",
   "name": "python3"
  },
  "language_info": {
   "codemirror_mode": {
    "name": "ipython",
    "version": 3
   },
   "file_extension": ".py",
   "mimetype": "text/x-python",
   "name": "python",
   "nbconvert_exporter": "python",
   "pygments_lexer": "ipython3",
   "version": "3.11.5"
  }
 },
 "nbformat": 4,
 "nbformat_minor": 2
}
