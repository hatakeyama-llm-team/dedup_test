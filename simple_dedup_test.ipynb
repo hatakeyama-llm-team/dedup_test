{
 "cells": [
  {
   "cell_type": "code",
   "execution_count": 1,
   "metadata": {},
   "outputs": [],
   "source": [
    "# dedupの練習"
   ]
  },
  {
   "cell_type": "code",
   "execution_count": 3,
   "metadata": {},
   "outputs": [],
   "source": [
    "text_list=[\n",
    "\"吾輩は猫である 吾輩は猫である 吾輩は猫である 吾輩は猫である 吾輩は猫である 吾輩は猫である 吾輩は猫である 吾輩は猫である 吾輩は猫である 吾輩は猫である 吾輩は猫である 吾輩は猫である \",\n",
    "\"吾輩は猫であれ 吾輩は猫である 吾輩は猫である 吾輩は猫である 吾輩は猫である 吾輩は猫である 吾輩は猫である 吾輩は猫である 吾輩は猫である 吾輩は猫である 吾輩は猫である 吾輩は猫である \",\n",
    "\"今日はいい天気ですね\",\n",
    "\"今日はいい天気ですかね\",\n",
    "\"今日はいい天気ですね\",\n",
    "\"今日はいい天気ですね。そうかな？？\",\n",
    "]\n",
    "\n"
   ]
  },
  {
   "cell_type": "code",
   "execution_count": 4,
   "metadata": {},
   "outputs": [],
   "source": [
    "import os\n",
    "def make_dir(path):\n",
    "    if not os.path.exists(path):\n",
    "        os.mkdir(path)\n",
    "\n",
    "make_dir(\"data/test/\")\n",
    "make_dir(\"data/test/original\")\n",
    "make_dir(\"data/test/out\")\n"
   ]
  },
  {
   "cell_type": "code",
   "execution_count": 5,
   "metadata": {},
   "outputs": [],
   "source": [
    "import json\n",
    "\n",
    "#試しに２つのjsonlを作る\n",
    "with open(\"data/test/original/test.jsonl\",\"w\") as f:\n",
    "    for text in text_list:\n",
    "        d={\n",
    "            \"text\":text\n",
    "        }\n",
    "        s=json.dumps(d, ensure_ascii=False)\n",
    "        f.write(s+\"\\n\")\n",
    "\n",
    "with open(\"data/test/original/test2.jsonl\",\"w\") as f:\n",
    "    for text in text_list:\n",
    "        d={\n",
    "            \"text\":text\n",
    "        }\n",
    "        s=json.dumps(d, ensure_ascii=False)\n",
    "        f.write(s+\"\\n\")"
   ]
  },
  {
   "cell_type": "code",
   "execution_count": 6,
   "metadata": {},
   "outputs": [
    {
     "name": "stdout",
     "output_type": "stream",
     "text": [
      "\n",
      "Processing file: ./data/test/original/test.jsonl\n",
      "0   \n",
      "Duplicated: 3\n",
      "\n",
      "Processing file: ./data/test/original/test2.jsonl\n",
      "0   \n",
      "Duplicated: 6\n"
     ]
    }
   ],
   "source": [
    "# dedup\n",
    "! ./dedup_sentence/deduplicate ./data/test/original/ ./data/test/out/"
   ]
  },
  {
   "cell_type": "code",
   "execution_count": null,
   "metadata": {},
   "outputs": [],
   "source": []
  },
  {
   "cell_type": "code",
   "execution_count": null,
   "metadata": {},
   "outputs": [],
   "source": []
  }
 ],
 "metadata": {
  "kernelspec": {
   "display_name": "scr",
   "language": "python",
   "name": "python3"
  },
  "language_info": {
   "codemirror_mode": {
    "name": "ipython",
    "version": 3
   },
   "file_extension": ".py",
   "mimetype": "text/x-python",
   "name": "python",
   "nbconvert_exporter": "python",
   "pygments_lexer": "ipython3",
   "version": "3.11.8"
  }
 },
 "nbformat": 4,
 "nbformat_minor": 2
}
