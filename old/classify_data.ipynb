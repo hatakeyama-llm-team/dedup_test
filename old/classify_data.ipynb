{
 "cells": [
  {
   "cell_type": "code",
   "execution_count": 1,
   "metadata": {},
   "outputs": [
    {
     "name": "stderr",
     "output_type": "stream",
     "text": [
      "/home/user/miniconda3/envs/ft/lib/python3.11/site-packages/tqdm/auto.py:21: TqdmWarning: IProgress not found. Please update jupyter and ipywidgets. See https://ipywidgets.readthedocs.io/en/stable/user_install.html\n",
      "  from .autonotebook import tqdm as notebook_tqdm\n",
      "/home/user/.cache/huggingface/modules/datasets_modules/datasets/mc4/78f7a2b7e2524fa44ee464ef429d011c365f5fe129283869e7fd76856aacb83a/mc4.py:284: FutureWarning: Dataset 'mc4' is deprecated and will be deleted. Use 'allenai/c4' instead.\n",
      "  warnings.warn(\n"
     ]
    }
   ],
   "source": [
    "from datasets import load_dataset\n",
    "from concurrent.futures import ThreadPoolExecutor, as_completed\n",
    "\n",
    "streaming = True\n",
    "\n",
    "database_name=\"mc4\"\n",
    "\n",
    "if database_name==\"mc4\":\n",
    "    dataset = load_dataset('mc4', 'ja', split='train', streaming=streaming)\n",
    "elif database_name==\"oscar\":\n",
    "    dataset=load_dataset('oscar', 'unshuffled_deduplicated_ja', split='train',streaming=streaming)\n",
    "elif database_name==\"cc100\":\n",
    "    dataset=load_dataset('cc100', lang='ja', split='train',streaming=streaming)\n",
    "elif database_name==\"shisa\":\n",
    "    dataset=load_dataset(\"augmxnt/shisa-pretrain-en-ja-v1\",split=\"train\",streaming=streaming)\n",
    "else:\n",
    "    raise ValueError(f\"unknown database name: {database_name}\")"
   ]
  },
  {
   "cell_type": "code",
   "execution_count": 4,
   "metadata": {},
   "outputs": [],
   "source": [
    "from bertopic import BERTopic\n",
    "model_path=\"data/topic_model.bin\"\n",
    "topic_model=BERTopic.load(model_path)"
   ]
  },
  {
   "cell_type": "code",
   "execution_count": 5,
   "metadata": {},
   "outputs": [],
   "source": [
    "import os\n",
    "base_dir=\"data/categorized\"\n",
    "\n",
    "def make_dir(path):\n",
    "    if not os.path.exists(path):\n",
    "        os.mkdir(path)\n",
    "\n",
    "make_dir(base_dir)"
   ]
  },
  {
   "cell_type": "code",
   "execution_count": 6,
   "metadata": {},
   "outputs": [],
   "source": [
    "import json"
   ]
  },
  {
   "cell_type": "code",
   "execution_count": 7,
   "metadata": {},
   "outputs": [],
   "source": [
    "batch_size=10000\n",
    "def proc(docs):\n",
    "    # docsを処理する関数\n",
    "    # ここに処理のロジックを実装します\n",
    "    print(f\"Processing {len(docs)} documents...\")\n",
    "    categories=topic_model.transform(docs)[0]\n",
    "\n",
    "    for text,category in zip(docs,categories):\n",
    "        save_dir=f\"{base_dir}/{database_name}\"\n",
    "        make_dir(save_dir)\n",
    "\n",
    "        data=json.dumps({\"db\":database_name,\"text\":text},ensure_ascii=False)\n",
    "        with open(f\"{save_dir}/{category}.jsonl\",\"a\") as f:\n",
    "            f.write(data+\"\\n\")\n",
    "\n",
    "    return len(docs)\n",
    "\n",
    "def main():\n",
    "    \n",
    "    docs = []\n",
    "    futures = []\n",
    "    with ThreadPoolExecutor(max_workers=5) as executor:\n",
    "        for doc in dataset:\n",
    "            docs.append(doc[\"text\"])\n",
    "            if len(docs) == batch_size:\n",
    "                # docsのコピーを作成してprocに渡す\n",
    "                docs_copy = docs[:]\n",
    "                # バッチをproc関数に非同期で渡す\n",
    "                future = executor.submit(proc, docs_copy)\n",
    "                futures.append(future)\n",
    "                # docsをリセット\n",
    "                docs = []\n",
    "            #break\n",
    "\n",
    "        # まだ処理されていないドキュメントがあれば、それも処理する\n",
    "        if docs:\n",
    "            futures.append(executor.submit(proc, docs))\n",
    "\n",
    "        # すべての処理が完了するのを待つ\n",
    "        for future in as_completed(futures):\n",
    "            result = future.result()\n",
    "            print(f\"Batch processed with {result} documents.\")\n"
   ]
  },
  {
   "cell_type": "code",
   "execution_count": 8,
   "metadata": {},
   "outputs": [
    {
     "name": "stdout",
     "output_type": "stream",
     "text": [
      "Processing 10000 documents...\n"
     ]
    },
    {
     "name": "stderr",
     "output_type": "stream",
     "text": [
      "Batches:  94%|█████████▍| 294/313 [00:11<00:00, 34.67it/s]"
     ]
    },
    {
     "name": "stdout",
     "output_type": "stream",
     "text": [
      "Processing 10000 documents...\n"
     ]
    },
    {
     "name": "stderr",
     "output_type": "stream",
     "text": [
      "Batches: 100%|██████████| 313/313 [00:13<00:00, 23.18it/s]\n",
      "Batches: 100%|██████████| 313/313 [00:19<00:00, 15.94it/s]\n"
     ]
    },
    {
     "name": "stdout",
     "output_type": "stream",
     "text": [
      "Processing 10000 documents...\n"
     ]
    },
    {
     "name": "stderr",
     "output_type": "stream",
     "text": [
      "Batches: 100%|██████████| 313/313 [00:11<00:00, 27.34it/s]\n"
     ]
    },
    {
     "name": "stdout",
     "output_type": "stream",
     "text": [
      "Processing 10000 documents...\n"
     ]
    },
    {
     "name": "stderr",
     "output_type": "stream",
     "text": [
      "Batches: 100%|██████████| 313/313 [00:11<00:00, 26.90it/s]\n"
     ]
    },
    {
     "name": "stdout",
     "output_type": "stream",
     "text": [
      "Processing 10000 documents...\n"
     ]
    },
    {
     "name": "stderr",
     "output_type": "stream",
     "text": [
      "Batches: 100%|██████████| 313/313 [00:11<00:00, 26.95it/s]\n"
     ]
    },
    {
     "name": "stdout",
     "output_type": "stream",
     "text": [
      "Processing 10000 documents...\n"
     ]
    },
    {
     "name": "stderr",
     "output_type": "stream",
     "text": [
      "Batches: 100%|██████████| 313/313 [00:11<00:00, 26.42it/s]\n"
     ]
    }
   ],
   "source": [
    "main()"
   ]
  },
  {
   "cell_type": "code",
   "execution_count": null,
   "metadata": {},
   "outputs": [],
   "source": []
  }
 ],
 "metadata": {
  "kernelspec": {
   "display_name": "ft",
   "language": "python",
   "name": "python3"
  },
  "language_info": {
   "codemirror_mode": {
    "name": "ipython",
    "version": 3
   },
   "file_extension": ".py",
   "mimetype": "text/x-python",
   "name": "python",
   "nbconvert_exporter": "python",
   "pygments_lexer": "ipython3",
   "version": "3.11.5"
  }
 },
 "nbformat": 4,
 "nbformat_minor": 2
}
