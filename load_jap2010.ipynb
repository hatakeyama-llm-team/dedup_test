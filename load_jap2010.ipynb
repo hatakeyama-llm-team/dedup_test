{
 "cells": [
  {
   "cell_type": "code",
   "execution_count": 1,
   "metadata": {},
   "outputs": [
    {
     "data": {
      "text/plain": [
       "'\\nテキストアーカイブ - 日本語ウェブコーパス 2010\\nhttp://www.s-yata.jp/corpus/nwc2010/texts/\\nを処理するcode｡\\n\\n#URLは常時は空いていないので注意｡(畠山が持ってます)\\nwget http://www.s-yata.jp/corpus/nwc2010/texts/filelist\\nwget -i filelist\\n'"
      ]
     },
     "execution_count": 1,
     "metadata": {},
     "output_type": "execute_result"
    }
   ],
   "source": [
    "# jap2010を読み込んでparquetにするcode｡実行不要\n",
    "\n",
    "\"\"\"\n",
    "テキストアーカイブ - 日本語ウェブコーパス 2010\n",
    "http://www.s-yata.jp/corpus/nwc2010/texts/\n",
    "を処理するcode｡\n",
    "\n",
    "#URLは常時は空いていないので注意｡(畠山が持ってます)\n",
    "wget http://www.s-yata.jp/corpus/nwc2010/texts/filelist\n",
    "wget -i filelist\n",
    "\"\"\""
   ]
  },
  {
   "cell_type": "code",
   "execution_count": 2,
   "metadata": {},
   "outputs": [],
   "source": [
    "import lzma\n",
    "import glob\n",
    "import json\n",
    "from tqdm import tqdm\n",
    "import pandas as pd\n",
    "task_name=\"00000001\"\n",
    "path=f\"data/jap2010/{task_name}.xz\"\n",
    "# .xz ファイルを開いて内容をチャンクで読み込む\n",
    "with lzma.open(path, 'rt') as file:\n",
    "    lines=file.readlines()"
   ]
  },
  {
   "cell_type": "code",
   "execution_count": 4,
   "metadata": {},
   "outputs": [],
   "source": [
    "\n",
    "out_dir=\"data/jap2010_parquet\"\n",
    "new_line_count=0\n",
    "count_threshold=3\n",
    "current_doc=[]\n",
    "cnt=0\n",
    "text_len=0\n",
    "text_list=[]\n",
    "for line in (lines):\n",
    "    if line==\"\\n\":\n",
    "        new_line_count+=1\n",
    "    else:\n",
    "        new_line_count=0\n",
    "    current_doc.append(line)\n",
    "    if new_line_count>=count_threshold:\n",
    "        text=\"\\n\".join(current_doc)\n",
    "        text=text.strip()\n",
    "        text=text.replace(\"\\n\\n\",\"\\n\")\n",
    "        current_doc=[]\n",
    "        new_line_count=0\n",
    "\n",
    "        \"\"\"\n",
    "        if text!=\"\":\n",
    "            d=json.dumps({\"text\":text},ensure_ascii=False)\n",
    "            with open(f\"{out_dir}/{task_name}.jsonl\",\"a\") as f:\n",
    "                f.write(f\"{d}\\n\")\n",
    "        \"\"\"\n",
    "        if text!=\"\":\n",
    "            text_list.append(text)\n",
    "            text_len+=len(text)\n",
    "\n",
    "    if text_len>10**8:\n",
    "        df=pd.DataFrame(text_list,columns=[\"text\"])\n",
    "        df.to_parquet(f\"{out_dir}/{task_name}_{cnt}.parquet\")\n",
    "        cnt+=1\n",
    "        text_list=[]\n",
    "        text_len=0\n",
    "        #if cnt>100:\n",
    "        #    break\n",
    "df=pd.DataFrame(text_list,columns=[\"text\"])\n",
    "df.to_parquet(f\"{out_dir}/{task_name}_{cnt}.parquet\")"
   ]
  },
  {
   "cell_type": "code",
   "execution_count": 42,
   "metadata": {},
   "outputs": [],
   "source": [
    "#huggingface-cli upload --repo-type=dataset hatakeyama-llm-team/japanese2010 ."
   ]
  },
  {
   "cell_type": "code",
   "execution_count": 44,
   "metadata": {},
   "outputs": [],
   "source": []
  },
  {
   "cell_type": "code",
   "execution_count": null,
   "metadata": {},
   "outputs": [],
   "source": []
  }
 ],
 "metadata": {
  "kernelspec": {
   "display_name": "ft",
   "language": "python",
   "name": "python3"
  },
  "language_info": {
   "codemirror_mode": {
    "name": "ipython",
    "version": 3
   },
   "file_extension": ".py",
   "mimetype": "text/x-python",
   "name": "python",
   "nbconvert_exporter": "python",
   "pygments_lexer": "ipython3",
   "version": "3.11.5"
  }
 },
 "nbformat": 4,
 "nbformat_minor": 2
}
