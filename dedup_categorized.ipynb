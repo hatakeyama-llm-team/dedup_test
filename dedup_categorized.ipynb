{
 "cells": [
  {
   "cell_type": "code",
   "execution_count": 1,
   "metadata": {},
   "outputs": [],
   "source": [
    "import os\n",
    "import glob"
   ]
  },
  {
   "cell_type": "code",
   "execution_count": 5,
   "metadata": {},
   "outputs": [],
   "source": [
    "input_dir=\"data/categorized\"\n",
    "output_dir=\"data/dedup_categorized\"\n",
    "\n",
    "def make_dir(target_dir):\n",
    "    if not os.path.exists(target_dir):\n",
    "        os.mkdir(target_dir)\n",
    "\n",
    "make_dir(output_dir)\n",
    "\n",
    "#make dirs\n",
    "dir_list=glob.glob(f\"{input_dir}/*\")\n",
    "job_list=[i.split(\"/\")[-1] for i in dir_list]\n",
    "for job_name in job_list:\n",
    "    make_dir(f\"{output_dir}/{job_name}\")"
   ]
  },
  {
   "cell_type": "code",
   "execution_count": 4,
   "metadata": {},
   "outputs": [],
   "source": [
    "#cmd=f\"./dedup_sentence/deduplicate ./{input_dir}/{job_name}/ ./{output_dir}/{job_name}/\"\n",
    "#os.system(cmd)"
   ]
  },
  {
   "cell_type": "code",
   "execution_count": 3,
   "metadata": {},
   "outputs": [],
   "source": [
    "#! ./dedup_sentence/deduplicate ./data/categorized/test/ ./data/dedup_categorized/test/"
   ]
  },
  {
   "cell_type": "code",
   "execution_count": 6,
   "metadata": {},
   "outputs": [
    {
     "name": "stdout",
     "output_type": "stream",
     "text": [
      "\n",
      "Processing file: ./data/categorized/132/cc100.jsonl\n",
      "\n",
      "Processing file: ./data/categorized/133/cc100.jsonl\n",
      "\n",
      "Processing file: ./data/categorized/167/cc100.jsonl\n",
      "\n",
      "Processing file: ./data/categorized/90/cc100.jsonl\n",
      "\n",
      "Processing file: ./data/categorized/80/cc100.jsonl\n",
      "\n",
      "Processing file: ./data/categorized/19/cc100.jsonl\n",
      "\n",
      "Processing file: ./data/categorized/84/cc100.jsonl\n",
      "\n",
      "Processing file: ./data/categorized/113/cc100.jsonl\n",
      "\n",
      "Processing file: ./data/categorized/245/cc100.jsonl\n",
      "\n",
      "Processing file: ./data/categorized/189/cc100.jsonl\n",
      "0    \n",
      "Duplicated: 0\n",
      "\n",
      "Processing file: ./data/categorized/132/mc4.jsonl\n",
      "0   \n",
      "Duplicated: 1\n",
      "\n",
      "Processing file: ./data/categorized/245/mc4.jsonl\n",
      "0    \n",
      "Duplicated: 1\n",
      "\n",
      "Processing file: ./data/categorized/189/mc4.jsonl\n",
      "\n",
      "Duplicated: 78\n",
      "\n",
      "Processing file: ./data/categorized/19/mc4.jsonl\n",
      "0   \n",
      "Duplicated: 5\n",
      "\n",
      "Processing file: ./data/categorized/113/mc4.jsonl\n",
      "\n",
      "Duplicated: 0\n",
      "\n",
      "Processing file: ./data/categorized/133/mc4.jsonl\n",
      "0            \n",
      "Duplicated: 2\n",
      "\n",
      "Processing file: ./data/categorized/80/mc4.jsonl\n",
      "\n",
      "Duplicated: 1\n",
      "\n",
      "Processing file: ./data/categorized/84/mc4.jsonl\n",
      "0   \n",
      "Duplicated: 7\n",
      "0    \n",
      "Processing file: ./data/categorized/167/mc4.jsonl\n",
      "5000                \n",
      "Duplicated: 19\n",
      "\n",
      "Processing file: ./data/categorized/90/mc4.jsonl\n",
      "0   \n",
      "Duplicated: 0\n",
      "\n",
      "Processing file: ./data/categorized/84/shisa.jsonl\n",
      "0           \n",
      "Duplicated: 36\n",
      "\n",
      "Processing file: ./data/categorized/84/oscar.jsonl\n",
      "0   \n",
      "Duplicated: 2\n",
      "\n",
      "Processing file: ./data/categorized/145/cc100.jsonl\n",
      "0   \n",
      "Duplicated: 2\n",
      "\n",
      "Processing file: ./data/categorized/145/mc4.jsonl\n",
      "0   "
     ]
    }
   ],
   "source": [
    "from concurrent.futures import ThreadPoolExecutor\n",
    "max_workers=10\n",
    "def run_command(job_name):\n",
    "    cmd = f\"./dedup_sentence/deduplicate ./{input_dir}/{job_name}/ ./{output_dir}/{job_name}/\"\n",
    "    os.system(cmd)\n",
    "\n",
    "with ThreadPoolExecutor(max_workers=max_workers) as executor:\n",
    "    executor.map(run_command, job_list)"
   ]
  },
  {
   "cell_type": "code",
   "execution_count": null,
   "metadata": {},
   "outputs": [],
   "source": []
  }
 ],
 "metadata": {
  "kernelspec": {
   "display_name": "ft",
   "language": "python",
   "name": "python3"
  },
  "language_info": {
   "codemirror_mode": {
    "name": "ipython",
    "version": 3
   },
   "file_extension": ".py",
   "mimetype": "text/x-python",
   "name": "python",
   "nbconvert_exporter": "python",
   "pygments_lexer": "ipython3",
   "version": "3.11.5"
  }
 },
 "nbformat": 4,
 "nbformat_minor": 2
}
